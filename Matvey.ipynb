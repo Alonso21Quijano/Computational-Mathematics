{
 "cells": [
  {
   "cell_type": "code",
   "execution_count": 21,
   "metadata": {},
   "outputs": [],
   "source": [
    "import numpy as np"
   ]
  },
  {
   "cell_type": "code",
   "execution_count": 22,
   "metadata": {},
   "outputs": [],
   "source": [
    "def partial_t_ricker (r_0, r, t_0): # частная производная P' по t\n",
    "    v = - (np.pi**2) * (f**2)\n",
    "    \n",
    "    mod = np.sqrt ((r_0[0] - r[0])**2 + (r_0[1] - r[2])**2 + (r_0[2] - r[2])**2)\n",
    "    \n",
    "    res = 2*v * P_0 * (3 + 2*v * (t_0 - mod/c)**2)* np.exp (v * (t_0 - mod/c)**2)\n",
    "    return res"
   ]
  },
  {
   "cell_type": "code",
   "execution_count": 24,
   "metadata": {},
   "outputs": [],
   "source": [
    "def pressure (r_0, t_0): #давление от источника\n",
    "    v = - (np.pi**2) * (f**2)\n",
    "    res = P_0 * (1 + 2*v * (t_0 - mod/c)**2)* np.exp (v * (t_0 - mod/c)**2)\n",
    "    return res"
   ]
  },
  {
   "cell_type": "code",
   "execution_count": 23,
   "metadata": {},
   "outputs": [],
   "source": [
    "def integrand (r_0, r, t_0): #подынтегральная функция\n",
    "    mod = np.sqrt ((r_0[0] - r[0])**2 + (r_0[1] - r[2])**2 + (r_0[2] - r[2])**2)\n",
    "    \n",
    "    res = (r_0[2] - r[2])/mod * (partial_t_ricker (r_0, r, t_0) / c + pressure (r_0, t_0) / mod ) - partial_z_ricker / mod\n",
    "    \n",
    "    return res"
   ]
  },
  {
   "cell_type": "code",
   "execution_count": null,
   "metadata": {},
   "outputs": [],
   "source": []
  }
 ],
 "metadata": {
  "kernelspec": {
   "display_name": "Python 2",
   "language": "python",
   "name": "python2"
  },
  "language_info": {
   "codemirror_mode": {
    "name": "ipython",
    "version": 2
   },
   "file_extension": ".py",
   "mimetype": "text/x-python",
   "name": "python",
   "nbconvert_exporter": "python",
   "pygments_lexer": "ipython2",
   "version": "2.7.14"
  }
 },
 "nbformat": 4,
 "nbformat_minor": 2
}
